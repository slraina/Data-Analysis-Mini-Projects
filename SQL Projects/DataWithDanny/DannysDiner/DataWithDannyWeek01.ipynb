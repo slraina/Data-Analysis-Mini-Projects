{
 "cells": [
  {
   "cell_type": "markdown",
   "metadata": {},
   "source": [
    "# <center> Danny's Diner : The Taste of Success\n",
    "    \n",
    "source link: https://8weeksqlchallenge.com/case-study-1/"
   ]
  },
  {
   "cell_type": "code",
   "execution_count": 2,
   "metadata": {},
   "outputs": [],
   "source": [
    "import pyodbc "
   ]
  },
  {
   "cell_type": "code",
   "execution_count": 20,
   "metadata": {},
   "outputs": [],
   "source": [
    "conn = pyodbc.connect('Driver={SQL Server};'\n",
    "                      'Server=DESKTOP-C4OVOKC;'\n",
    "                      'Database=DannyCaseStudy1;'\n",
    "                      'Trusted_Connection=yes;')"
   ]
  },
  {
   "cell_type": "code",
   "execution_count": 4,
   "metadata": {},
   "outputs": [
    {
     "name": "stdout",
     "output_type": "stream",
     "text": [
      "Have a look at the data from sales table.\n",
      "\n",
      "('A', '2021-01-01', 1)\n",
      "('A', '2021-01-01', 2)\n",
      "('A', '2021-01-07', 2)\n",
      "('A', '2021-01-10', 3)\n",
      "('A', '2021-01-11', 3)\n",
      "('A', '2021-01-11', 3)\n",
      "('B', '2021-01-01', 2)\n",
      "('B', '2021-01-02', 2)\n",
      "('B', '2021-01-04', 1)\n",
      "('B', '2021-01-11', 1)\n",
      "('B', '2021-01-16', 3)\n",
      "('B', '2021-02-01', 3)\n",
      "('C', '2021-01-01', 3)\n",
      "('C', '2021-01-01', 3)\n",
      "('C', '2021-01-07', 3)\n"
     ]
    }
   ],
   "source": [
    "cursor = conn.cursor()\n",
    "cursor.execute('SELECT * FROM [dannys_diner].[sale]')\n",
    "\n",
    "print(\"Have a look at the data from sales table.\\n\")\n",
    "\n",
    "for i in cursor:\n",
    "    print(i)\n"
   ]
  },
  {
   "cell_type": "code",
   "execution_count": 7,
   "metadata": {},
   "outputs": [
    {
     "name": "stdout",
     "output_type": "stream",
     "text": [
      "This is the data of Members who have Subscribed to Danny's Diner\n",
      "\n",
      "[('A', '2021-01-07'), ('B', '2021-01-09')]\n"
     ]
    }
   ],
   "source": [
    "try :\n",
    "    cur = conn.cursor()\n",
    "    print(\"This is the data of Members who have Subscribed to Danny's Diner\\n\")\n",
    "    QUERY = 'SELECT * FROM [dannys_diner].[members]'\n",
    "    cur.execute(QUERY)\n",
    "    print(cur.fetchall())\n",
    "except Exception as e:\n",
    "    cur.close()\n",
    "    print(e)"
   ]
  },
  {
   "cell_type": "code",
   "execution_count": 8,
   "metadata": {},
   "outputs": [
    {
     "name": "stdout",
     "output_type": "stream",
     "text": [
      "This is the data of our Products\n",
      "\n",
      "(1, 'sushi', 10)\n",
      "(2, 'curry', 15)\n",
      "(3, 'ramen', 12)\n"
     ]
    }
   ],
   "source": [
    "try :\n",
    "    cur = conn.cursor()\n",
    "    print(\"This is the data of our Products\\n\")\n",
    "    QUERY = 'SELECT * FROM [dannys_diner].[menu]'\n",
    "    cur.execute(QUERY)\n",
    "    for i in cur:\n",
    "        print(i)\n",
    "    \n",
    "except Exception as e:\n",
    "    cur.close()\n",
    "    print(e)"
   ]
  },
  {
   "cell_type": "markdown",
   "metadata": {},
   "source": [
    "## <center> Case Study Questions"
   ]
  },
  {
   "cell_type": "markdown",
   "metadata": {},
   "source": [
    "**What is the total amount each customer spent at the restaurant?**"
   ]
  },
  {
   "cell_type": "code",
   "execution_count": 40,
   "metadata": {},
   "outputs": [
    {
     "name": "stdout",
     "output_type": "stream",
     "text": [
      "Total Amount Spent is as Follows: \n",
      "\n",
      "('A', '$ 76')\n",
      "('B', '$ 74')\n",
      "('C', '$ 36')\n"
     ]
    }
   ],
   "source": [
    "try :\n",
    "    cur = conn.cursor()\n",
    "    print(\"Total Amount Spent is as Follows: \\n\")\n",
    "    QUERY = '''\n",
    "            SELECT s.customer_id, '$ '+ CAST(SUM(m.price) as nvarchar) as [Total Spent]\n",
    "            FROM dannys_diner.sale s\n",
    "            JOIN dannys_diner.menu m\n",
    "                ON m.product_id = s.product_id \n",
    "            GROUP BY s.customer_id   \n",
    "            '''\n",
    "    cur.execute(QUERY)\n",
    "    for i in cur:\n",
    "        print(i)\n",
    "    \n",
    "except Exception as e:\n",
    "#     cur.close()\n",
    "    print(e)"
   ]
  },
  {
   "cell_type": "markdown",
   "metadata": {},
   "source": [
    "**How many days has each customer visited the restaurant?**"
   ]
  },
  {
   "cell_type": "code",
   "execution_count": 14,
   "metadata": {},
   "outputs": [
    {
     "name": "stdout",
     "output_type": "stream",
     "text": [
      "Days Visited: \n",
      "\n",
      "('A', '6 days')\n",
      "('B', '6 days')\n",
      "('C', '3 days')\n"
     ]
    }
   ],
   "source": [
    "try :\n",
    "    cur = conn.cursor()\n",
    "    print(\"Days Visited: \\n\")\n",
    "    QUERY = '''\n",
    "            SELECT customer_id, Cast(COUNT(order_date) as nvarchar) + \\' days\\' as [Days_Visited]\n",
    "            FROM dannys_diner.sale\n",
    "            GROUP BY customer_id \n",
    "            '''\n",
    "    cur.execute(QUERY)\n",
    "    for i in cur:\n",
    "        print(i)\n",
    "    \n",
    "except Exception as e:\n",
    "#     cur.close()\n",
    "    print(e)"
   ]
  },
  {
   "cell_type": "markdown",
   "metadata": {},
   "source": [
    "**What was the first item from the menu purchased by each customer?**"
   ]
  },
  {
   "cell_type": "code",
   "execution_count": 39,
   "metadata": {},
   "outputs": [
    {
     "name": "stdout",
     "output_type": "stream",
     "text": [
      "First item purchased : \n",
      "\n",
      "('A', '2021-01-01', 'sushi')\n",
      "('A', '2021-01-01', 'curry')\n",
      "('B', '2021-01-01', 'curry')\n",
      "('C', '2021-01-01', 'ramen')\n",
      "('C', '2021-01-01', 'ramen')\n"
     ]
    }
   ],
   "source": [
    "try :\n",
    "    cur = conn.cursor()\n",
    "    print(\"First item purchased : \\n\")\n",
    "    QUERY = '''\n",
    "            WITH FO as\n",
    "            (\n",
    "            SELECT customer_id, MIN(order_date) as [First Order Date]\n",
    "            FROM dannys_diner.sale\n",
    "            GROUP BY customer_id\n",
    "            )\n",
    "            SELECT FO.*,m.product_name\n",
    "            FROM dannys_diner.sale s\n",
    "            RIGHT JOIN FO\n",
    "                ON FO.[First Order Date] = s.order_date AND FO.customer_id = s.customer_id\n",
    "            JOIN [dannys_diner].[menu] m\n",
    "                ON s.product_id = m.product_id\n",
    "            '''\n",
    "    cur.execute(QUERY)\n",
    "    for i in cur:\n",
    "        print(i)\n",
    "    \n",
    "except Exception as e:\n",
    "#     cur.close()\n",
    "    print(e)"
   ]
  },
  {
   "cell_type": "markdown",
   "metadata": {},
   "source": [
    "**What is the most purchased item on the menu and how many times was it purchased by all customers?**"
   ]
  },
  {
   "cell_type": "code",
   "execution_count": 42,
   "metadata": {},
   "outputs": [
    {
     "name": "stdout",
     "output_type": "stream",
     "text": [
      "Most purchased item: \n",
      "\n",
      "('ramen', '8 times')\n"
     ]
    }
   ],
   "source": [
    "try :\n",
    "    cur = conn.cursor()\n",
    "    print(\"Most purchased item: \\n\")\n",
    "    QUERY = '''\n",
    "            SELECT TOP 1 product_name, CAST (Count(s.product_id) as nvarchar) + ' times' as [Times Purchased]\n",
    "            FROM [dannys_diner].[sale] s\n",
    "            JOIN [dannys_diner].[menu] m\n",
    "                ON m.product_id = s.product_id\n",
    "            GROUP BY product_name\n",
    "            ORDER BY Count(s.product_id) DESC\n",
    "            '''\n",
    "    cur.execute(QUERY)\n",
    "    for i in cur:\n",
    "        print(i)\n",
    "    \n",
    "except Exception as e:\n",
    "#     cur.close()\n",
    "    print(e)"
   ]
  },
  {
   "cell_type": "markdown",
   "metadata": {},
   "source": [
    "**Which item was the most popular for each customer?**"
   ]
  },
  {
   "cell_type": "code",
   "execution_count": 44,
   "metadata": {},
   "outputs": [
    {
     "name": "stdout",
     "output_type": "stream",
     "text": [
      "Most popular item: \n",
      "\n",
      "Customer  Product ID\n",
      "('A', 3)\n",
      "('B', 1)\n",
      "('B', 2)\n",
      "('B', 3)\n",
      "('C', 3)\n"
     ]
    }
   ],
   "source": [
    "try :\n",
    "    cur = conn.cursor()\n",
    "    print(\"Most popular item: \\n\\nCustomer  Product ID\")\n",
    "    QUERY = '''\n",
    "            WITH MP as\n",
    "            (\n",
    "            SELECT customer_id, product_id, Count(product_id) as [Products Purchased], \n",
    "            DENSE_RANK() OVER (PARTITION BY customer_id ORDER BY Count(product_id) DESC) as RANKS\n",
    "            FROM [dannys_diner].[sale] \n",
    "            GROUP BY customer_id, product_id\n",
    "            )\n",
    "            SELECT customer_id, product_id\n",
    "            FROM MP\n",
    "            WHERE RANKS = 1\n",
    "            Order by customer_id\n",
    "            '''\n",
    "    cur.execute(QUERY)\n",
    "    for i in cur:\n",
    "        print(i)\n",
    "    \n",
    "except Exception as e:\n",
    "#     cur.close()\n",
    "    print(e)"
   ]
  },
  {
   "cell_type": "markdown",
   "metadata": {},
   "source": [
    "**Which item was purchased first by the customer after they became a member?**"
   ]
  },
  {
   "cell_type": "code",
   "execution_count": 38,
   "metadata": {},
   "outputs": [
    {
     "name": "stdout",
     "output_type": "stream",
     "text": [
      "Item purchased after becoming member: \n",
      "\n",
      "('A', 'curry')\n",
      "('B', 'sushi')\n"
     ]
    }
   ],
   "source": [
    "try :\n",
    "    cur = conn.cursor()\n",
    "    print(\"Item purchased after becoming member: \\n\")\n",
    "    QUERY = '''\n",
    "            WITH FPOAM as \n",
    "            (\n",
    "            SELECT m.customer_id, s.product_id, DATEDIFF(Day, m.join_date, s.order_date) as DIFF,\n",
    "            RANK() OVER(PARTITION BY m.customer_id ORDER BY DATEDIFF(Day, m.join_date, s.order_date)) as [rank_of_orders]\n",
    "            FROM [dannys_diner].[members] m\n",
    "            JOIN [dannys_diner].[sale] s \n",
    "                ON s.customer_id = m.customer_id AND s.order_date >= m.join_date\n",
    "            )\n",
    "            SELECT customer_id, product_name\n",
    "            FROM FPOAM\n",
    "            JOIN [dannys_diner].[menu] m\n",
    "                ON m.product_id = FPOAM.[product_id]\n",
    "            WHERE [rank_of_orders]= 1\n",
    "            '''\n",
    "    cur.execute(QUERY)\n",
    "    for i in cur:\n",
    "        print(i)\n",
    "    \n",
    "except Exception as e:\n",
    "#     cur.close()\n",
    "    print(e)"
   ]
  },
  {
   "cell_type": "markdown",
   "metadata": {},
   "source": [
    "**Which item was purchased just before the customer became a member?**"
   ]
  },
  {
   "cell_type": "code",
   "execution_count": 37,
   "metadata": {},
   "outputs": [
    {
     "name": "stdout",
     "output_type": "stream",
     "text": [
      "Item purchased before becoming member: \n",
      "\n",
      "('A', 'sushi')\n",
      "('A', 'curry')\n",
      "('B', 'sushi')\n"
     ]
    }
   ],
   "source": [
    "try :\n",
    "    cur = conn.cursor()\n",
    "    print(\"Item purchased before becoming member: \\n\")\n",
    "    QUERY = '''\n",
    "            WITH BSP as\n",
    "            (\n",
    "            SELECT m.customer_id, s.product_id,DATEDIFF(Day, m.join_date, s.order_date) as DIFF,\n",
    "            RANK() OVER(PARTITION BY m.customer_id ORDER BY DATEDIFF(Day, m.join_date, s.order_date)DESC ) as [rank_of_orders] \n",
    "            FROM [dannys_diner].[members] m\n",
    "            JOIN [dannys_diner].[sale] s \n",
    "                ON s.customer_id = m.customer_id AND s.order_date < m.join_date\n",
    "            )\n",
    "            SELECT customer_id, product_name\n",
    "            FROM BSP\n",
    "            JOIN [dannys_diner].[menu] m\n",
    "                ON m.product_id = BSP.[product_id]\n",
    "            WHERE [rank_of_orders]= 1\n",
    "            '''\n",
    "    cur.execute(QUERY)\n",
    "    for i in cur:\n",
    "        print(i)\n",
    "    \n",
    "except Exception as e:\n",
    "#     cur.close()\n",
    "    print(e)"
   ]
  },
  {
   "cell_type": "markdown",
   "metadata": {},
   "source": [
    "**What is the total items and amount spent for each member before they became a member?**"
   ]
  },
  {
   "cell_type": "code",
   "execution_count": 27,
   "metadata": {},
   "outputs": [
    {
     "name": "stdout",
     "output_type": "stream",
     "text": [
      "Items purchased and amount spent for each member before they became a member: \n",
      "\n",
      "('A', '$ 25')\n",
      "('B', '$ 40')\n"
     ]
    }
   ],
   "source": [
    "try :\n",
    "    cur = conn.cursor()\n",
    "    print(\"Items purchased and amount spent for each member before they became a member: \\n\")\n",
    "    QUERY = '''\n",
    "            WITH PBS as\n",
    "            (\n",
    "            SELECT m.customer_id, s.product_id,m.join_date, s.order_date,\n",
    "            DATEDIFF(Day, m.join_date, s.order_date) as DIFF,\n",
    "            RANK() OVER(PARTITION BY m.customer_id ORDER BY DATEDIFF(Day, m.join_date, s.order_date)DESC ) as [rank_of_orders] \n",
    "            FROM [dannys_diner].[members] m\n",
    "            JOIN [dannys_diner].[sale] s \n",
    "                ON s.customer_id = m.customer_id AND s.order_date < m.join_date\n",
    "            )\n",
    "                SELECT customer_id, '$ ' + Cast(SUM(price) as nvarchar) as [Purchase Before Membership]\n",
    "            FROM PBS \n",
    "            JOIN [dannys_diner].[menu] m \n",
    "                ON m.product_id = PBS.product_id\n",
    "            GROUP BY customer_id\n",
    "            '''\n",
    "    cur.execute(QUERY)\n",
    "    for i in cur:\n",
    "        print(i)\n",
    "    \n",
    "except Exception as e:\n",
    "#     cur.close()\n",
    "    print(e)"
   ]
  },
  {
   "cell_type": "markdown",
   "metadata": {},
   "source": [
    "**If each $1 spent equates to 10 points and sushi has a 2x points multiplier - how many points would each customer have?**"
   ]
  },
  {
   "cell_type": "code",
   "execution_count": 31,
   "metadata": {},
   "outputs": [
    {
     "name": "stdout",
     "output_type": "stream",
     "text": [
      "Customer Points: \n",
      "\n",
      "('A', '860 Points')\n",
      "('B', '940 Points')\n",
      "('C', '360 Points')\n"
     ]
    }
   ],
   "source": [
    "try :\n",
    "    cur = conn.cursor()\n",
    "    print(\"Customer Points: \\n\")\n",
    "    QUERY = '''\n",
    "            SELECT s.customer_id,\n",
    "            Cast(SUM(CASE WHEN m.product_name = 'sushi' THEN 2*10*m.price\n",
    "                 ELSE 10*m.price\n",
    "            END) as nvarchar) + ' Points' AS Points\n",
    "            FROM [dannys_diner].[menu] m\n",
    "                JOIN [dannys_diner].[sale] s\n",
    "            ON m.product_id = s.product_id\n",
    "            GROUP BY s.customer_id\n",
    "            '''\n",
    "    cur.execute(QUERY)\n",
    "    for i in cur:\n",
    "        print(i)\n",
    "    \n",
    "except Exception as e:\n",
    "#     cur.close()\n",
    "    print(e)"
   ]
  },
  {
   "cell_type": "markdown",
   "metadata": {},
   "source": [
    "**In the first week after a customer joins the program (including their join date) they earn 2x points on all items, not just sushi - how many points do customer A and B have at the end of January?**"
   ]
  },
  {
   "cell_type": "code",
   "execution_count": 35,
   "metadata": {},
   "outputs": [
    {
     "name": "stdout",
     "output_type": "stream",
     "text": [
      "Customer Points: \n",
      "\n",
      "('A', '1370 Points')\n",
      "('B', '820 Points')\n"
     ]
    }
   ],
   "source": [
    "try :\n",
    "    cur = conn.cursor()\n",
    "    print(\"Customer Points: \\n\")\n",
    "    QUERY = '''\n",
    "            SELECT s.customer_id, \n",
    "            CAST(SUM(CASE \n",
    "                    WHEN DATEDIFF(Day,mm.join_date,s.order_date) <=6 AND DATEDIFF(Day,mm.join_date,s.order_date) >= 0 \n",
    "                         THEN 2*10*m.price\n",
    "                    WHEN m.product_id = 1 \n",
    "                         THEN 2*10*m.price \n",
    "                    ELSE 10*m.price\n",
    "            END) as nvarchar) + ' Points' AS Points\n",
    "            FROM [dannys_diner].[menu] m\n",
    "            JOIN [dannys_diner].[sale] s\n",
    "                ON m.product_id = s.product_id\n",
    "            JOIN [dannys_diner].[members] mm\n",
    "                ON mm.customer_id = s.customer_id\n",
    "            WHERE s.order_date <= '2021-01-30'\n",
    "            GROUP BY s.customer_id\n",
    "            '''\n",
    "    cur.execute(QUERY)\n",
    "    for i in cur:\n",
    "        print(i)\n",
    "\n",
    "except Exception as e:\n",
    "#     cur.close()\n",
    "    print(e)"
   ]
  },
  {
   "cell_type": "markdown",
   "metadata": {},
   "source": [
    "## <center> Insights"
   ]
  },
  {
   "cell_type": "markdown",
   "metadata": {},
   "source": [
    "- Till Date Customer A has spent the most followed by customer B.\n",
    "- Customer A and B visited us 6 times whereas for customer C, only 3 times\n",
    "- Ramen is the most popular item out of three available and got sold 8 times out of 15 customer visits which accounts for 53% of whole.\n",
    "- Ramen seems favourite item for customer A and C whereas B likes all three items equally as per the data.\n",
    "- Customer A is the first Loyal Customer(Subscribing loyality program) followed by B\n",
    "- Even though Ramen is popular but before joining Customer loyalty program A ordered sushi and curry and B ordered ‘sushi’.\n",
    "- Customer C has purchased the lowest out of all three customer and also isn't a member of loyalty program. Restraunt team can request customers for feedback so that they can add more customers to their loyality program."
   ]
  },
  {
   "cell_type": "code",
   "execution_count": null,
   "metadata": {},
   "outputs": [],
   "source": []
  }
 ],
 "metadata": {
  "kernelspec": {
   "display_name": "Python 3",
   "language": "python",
   "name": "python3"
  },
  "language_info": {
   "codemirror_mode": {
    "name": "ipython",
    "version": 3
   },
   "file_extension": ".py",
   "mimetype": "text/x-python",
   "name": "python",
   "nbconvert_exporter": "python",
   "pygments_lexer": "ipython3",
   "version": "3.8.5"
  }
 },
 "nbformat": 4,
 "nbformat_minor": 4
}
